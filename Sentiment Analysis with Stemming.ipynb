{
 "cells": [
  {
   "cell_type": "code",
   "execution_count": 1,
   "metadata": {
    "colab": {},
    "colab_type": "code",
    "id": "7QG7sxmoCIvN"
   },
   "outputs": [],
   "source": [
    "import pandas as pd"
   ]
  },
  {
   "cell_type": "code",
   "execution_count": 3,
   "metadata": {
    "colab": {},
    "colab_type": "code",
    "id": "UCK6vQ5QCQJe"
   },
   "outputs": [
    {
     "data": {
      "text/html": [
       "<div>\n",
       "<style scoped>\n",
       "    .dataframe tbody tr th:only-of-type {\n",
       "        vertical-align: middle;\n",
       "    }\n",
       "\n",
       "    .dataframe tbody tr th {\n",
       "        vertical-align: top;\n",
       "    }\n",
       "\n",
       "    .dataframe thead th {\n",
       "        text-align: right;\n",
       "    }\n",
       "</style>\n",
       "<table border=\"1\" class=\"dataframe\">\n",
       "  <thead>\n",
       "    <tr style=\"text-align: right;\">\n",
       "      <th></th>\n",
       "      <th>review</th>\n",
       "      <th>label</th>\n",
       "    </tr>\n",
       "  </thead>\n",
       "  <tbody>\n",
       "    <tr>\n",
       "      <th>0</th>\n",
       "      <td>Rocky bhai ‘rocks’, awesome performance.</td>\n",
       "      <td>1</td>\n",
       "    </tr>\n",
       "    <tr>\n",
       "      <th>1</th>\n",
       "      <td>It was a good movie, a blockbuster cinema</td>\n",
       "      <td>1</td>\n",
       "    </tr>\n",
       "    <tr>\n",
       "      <th>2</th>\n",
       "      <td>I loved the movie and acting</td>\n",
       "      <td>1</td>\n",
       "    </tr>\n",
       "    <tr>\n",
       "      <th>3</th>\n",
       "      <td>Great performance by Yash and ‘Sanju’ baba.</td>\n",
       "      <td>1</td>\n",
       "    </tr>\n",
       "    <tr>\n",
       "      <th>4</th>\n",
       "      <td>Total waste of money</td>\n",
       "      <td>0</td>\n",
       "    </tr>\n",
       "    <tr>\n",
       "      <th>5</th>\n",
       "      <td>Poor storyline, and very bad performance by th...</td>\n",
       "      <td>0</td>\n",
       "    </tr>\n",
       "    <tr>\n",
       "      <th>6</th>\n",
       "      <td>I Give 9/10 for this one.9/10 Cuz,Editing styl...</td>\n",
       "      <td>1</td>\n",
       "    </tr>\n",
       "    <tr>\n",
       "      <th>7</th>\n",
       "      <td>First half is very slow and boring</td>\n",
       "      <td>0</td>\n",
       "    </tr>\n",
       "    <tr>\n",
       "      <th>8</th>\n",
       "      <td>Songs are the best part of movie, I liked it</td>\n",
       "      <td>1</td>\n",
       "    </tr>\n",
       "    <tr>\n",
       "      <th>9</th>\n",
       "      <td>I didn’t liked it.</td>\n",
       "      <td>0</td>\n",
       "    </tr>\n",
       "    <tr>\n",
       "      <th>10</th>\n",
       "      <td>I will give it a big zero, what a waste</td>\n",
       "      <td>0</td>\n",
       "    </tr>\n",
       "    <tr>\n",
       "      <th>11</th>\n",
       "      <td>Total overacting by the leads</td>\n",
       "      <td>0</td>\n",
       "    </tr>\n",
       "    <tr>\n",
       "      <th>12</th>\n",
       "      <td>No doubt. This film is the changing phase for ...</td>\n",
       "      <td>1</td>\n",
       "    </tr>\n",
       "    <tr>\n",
       "      <th>13</th>\n",
       "      <td>The best of all Indian movies.Nothing can be c...</td>\n",
       "      <td>1</td>\n",
       "    </tr>\n",
       "    <tr>\n",
       "      <th>14</th>\n",
       "      <td>Race is known for his suspenses and thriller.....</td>\n",
       "      <td>0</td>\n",
       "    </tr>\n",
       "    <tr>\n",
       "      <th>15</th>\n",
       "      <td>#Fresh Story ,Great Visuals,best part is there...</td>\n",
       "      <td>1</td>\n",
       "    </tr>\n",
       "    <tr>\n",
       "      <th>16</th>\n",
       "      <td>Worst movie of the Race franchise. It's an all...</td>\n",
       "      <td>0</td>\n",
       "    </tr>\n",
       "    <tr>\n",
       "      <th>17</th>\n",
       "      <td>A very illogical action sequences as usual.</td>\n",
       "      <td>0</td>\n",
       "    </tr>\n",
       "    <tr>\n",
       "      <th>18</th>\n",
       "      <td>Remarkable direction, outstanding acting, monu...</td>\n",
       "      <td>1</td>\n",
       "    </tr>\n",
       "    <tr>\n",
       "      <th>19</th>\n",
       "      <td>Meaningless, in appropriate, boring!!!</td>\n",
       "      <td>0</td>\n",
       "    </tr>\n",
       "    <tr>\n",
       "      <th>20</th>\n",
       "      <td>Race 3 is undoubtedly one of the worst big bud...</td>\n",
       "      <td>0</td>\n",
       "    </tr>\n",
       "    <tr>\n",
       "      <th>21</th>\n",
       "      <td>This was 3rd class acting from top class actor...</td>\n",
       "      <td>0</td>\n",
       "    </tr>\n",
       "    <tr>\n",
       "      <th>22</th>\n",
       "      <td>This is the worst movie I've ever seen in my w...</td>\n",
       "      <td>0</td>\n",
       "    </tr>\n",
       "    <tr>\n",
       "      <th>23</th>\n",
       "      <td>An epic milestone in Kannada industry!! I am n...</td>\n",
       "      <td>1</td>\n",
       "    </tr>\n",
       "    <tr>\n",
       "      <th>24</th>\n",
       "      <td>Fabulous work done by prashant neel,we can't g...</td>\n",
       "      <td>1</td>\n",
       "    </tr>\n",
       "    <tr>\n",
       "      <th>25</th>\n",
       "      <td>KGF is a win for the whole Kannada film industry.</td>\n",
       "      <td>1</td>\n",
       "    </tr>\n",
       "    <tr>\n",
       "      <th>26</th>\n",
       "      <td>Even the characters or the performances didn't...</td>\n",
       "      <td>0</td>\n",
       "    </tr>\n",
       "    <tr>\n",
       "      <th>27</th>\n",
       "      <td>One does not go to watch the race franchise fo...</td>\n",
       "      <td>0</td>\n",
       "    </tr>\n",
       "    <tr>\n",
       "      <th>28</th>\n",
       "      <td>There's a twist a minute and frankly the twist...</td>\n",
       "      <td>0</td>\n",
       "    </tr>\n",
       "    <tr>\n",
       "      <th>29</th>\n",
       "      <td>Cinematography is mindblowing. The depiction o...</td>\n",
       "      <td>1</td>\n",
       "    </tr>\n",
       "    <tr>\n",
       "      <th>30</th>\n",
       "      <td>Its a fantastic experience unlike the same for...</td>\n",
       "      <td>1</td>\n",
       "    </tr>\n",
       "    <tr>\n",
       "      <th>31</th>\n",
       "      <td>superb flop movie i ever seen in my life loser...</td>\n",
       "      <td>0</td>\n",
       "    </tr>\n",
       "    <tr>\n",
       "      <th>32</th>\n",
       "      <td>only stunt is not important acting is also req...</td>\n",
       "      <td>0</td>\n",
       "    </tr>\n",
       "    <tr>\n",
       "      <th>33</th>\n",
       "      <td>This movie is a very horrible and a worst movi...</td>\n",
       "      <td>0</td>\n",
       "    </tr>\n",
       "    <tr>\n",
       "      <th>34</th>\n",
       "      <td>Salman Khan acted very bad in that movie and t...</td>\n",
       "      <td>0</td>\n",
       "    </tr>\n",
       "    <tr>\n",
       "      <th>35</th>\n",
       "      <td>Game Changer, Mass Cinematic Brilliance 4 Star</td>\n",
       "      <td>1</td>\n",
       "    </tr>\n",
       "    <tr>\n",
       "      <th>36</th>\n",
       "      <td>It was a mind-blowing experience to watch such...</td>\n",
       "      <td>1</td>\n",
       "    </tr>\n",
       "    <tr>\n",
       "      <th>37</th>\n",
       "      <td>t has some punchlines like\" If you think you a...</td>\n",
       "      <td>1</td>\n",
       "    </tr>\n",
       "    <tr>\n",
       "      <th>38</th>\n",
       "      <td>I don't know why salman think that he can do e...</td>\n",
       "      <td>0</td>\n",
       "    </tr>\n",
       "    <tr>\n",
       "      <th>39</th>\n",
       "      <td>This movie is a masterpiece with a unique stor...</td>\n",
       "      <td>1</td>\n",
       "    </tr>\n",
       "    <tr>\n",
       "      <th>40</th>\n",
       "      <td>This is the worst movie I've ever seen in my w...</td>\n",
       "      <td>0</td>\n",
       "    </tr>\n",
       "    <tr>\n",
       "      <th>41</th>\n",
       "      <td>ONE OF THE MOST AMAZING POWERFUL MOVIES I HAVE...</td>\n",
       "      <td>1</td>\n",
       "    </tr>\n",
       "    <tr>\n",
       "      <th>42</th>\n",
       "      <td>They should have left it at the Second install...</td>\n",
       "      <td>0</td>\n",
       "    </tr>\n",
       "    <tr>\n",
       "      <th>43</th>\n",
       "      <td>Excellent Story, screen play, direction, cinem...</td>\n",
       "      <td>1</td>\n",
       "    </tr>\n",
       "    <tr>\n",
       "      <th>44</th>\n",
       "      <td>Very very flop movie. There is nothing like ra...</td>\n",
       "      <td>0</td>\n",
       "    </tr>\n",
       "    <tr>\n",
       "      <th>45</th>\n",
       "      <td>The best Indian action film, the way story is ...</td>\n",
       "      <td>1</td>\n",
       "    </tr>\n",
       "    <tr>\n",
       "      <th>46</th>\n",
       "      <td>this movie is one of my favorites, yash gave h...</td>\n",
       "      <td>1</td>\n",
       "    </tr>\n",
       "    <tr>\n",
       "      <th>47</th>\n",
       "      <td>The plot twist were so unnecessary , and this ...</td>\n",
       "      <td>0</td>\n",
       "    </tr>\n",
       "    <tr>\n",
       "      <th>48</th>\n",
       "      <td>It is the best movie I have ever seen in India...</td>\n",
       "      <td>1</td>\n",
       "    </tr>\n",
       "    <tr>\n",
       "      <th>49</th>\n",
       "      <td>This movie is a very horrible and a worst movi...</td>\n",
       "      <td>0</td>\n",
       "    </tr>\n",
       "  </tbody>\n",
       "</table>\n",
       "</div>"
      ],
      "text/plain": [
       "                                               review  label\n",
       "0            Rocky bhai ‘rocks’, awesome performance.      1\n",
       "1           It was a good movie, a blockbuster cinema      1\n",
       "2                        I loved the movie and acting      1\n",
       "3         Great performance by Yash and ‘Sanju’ baba.      1\n",
       "4                                Total waste of money      0\n",
       "5   Poor storyline, and very bad performance by th...      0\n",
       "6   I Give 9/10 for this one.9/10 Cuz,Editing styl...      1\n",
       "7                  First half is very slow and boring      0\n",
       "8        Songs are the best part of movie, I liked it      1\n",
       "9                                  I didn’t liked it.      0\n",
       "10            I will give it a big zero, what a waste      0\n",
       "11                      Total overacting by the leads      0\n",
       "12  No doubt. This film is the changing phase for ...      1\n",
       "13  The best of all Indian movies.Nothing can be c...      1\n",
       "14  Race is known for his suspenses and thriller.....      0\n",
       "15  #Fresh Story ,Great Visuals,best part is there...      1\n",
       "16  Worst movie of the Race franchise. It's an all...      0\n",
       "17        A very illogical action sequences as usual.      0\n",
       "18  Remarkable direction, outstanding acting, monu...      1\n",
       "19             Meaningless, in appropriate, boring!!!      0\n",
       "20  Race 3 is undoubtedly one of the worst big bud...      0\n",
       "21  This was 3rd class acting from top class actor...      0\n",
       "22  This is the worst movie I've ever seen in my w...      0\n",
       "23  An epic milestone in Kannada industry!! I am n...      1\n",
       "24  Fabulous work done by prashant neel,we can't g...      1\n",
       "25  KGF is a win for the whole Kannada film industry.      1\n",
       "26  Even the characters or the performances didn't...      0\n",
       "27  One does not go to watch the race franchise fo...      0\n",
       "28  There's a twist a minute and frankly the twist...      0\n",
       "29  Cinematography is mindblowing. The depiction o...      1\n",
       "30  Its a fantastic experience unlike the same for...      1\n",
       "31  superb flop movie i ever seen in my life loser...      0\n",
       "32  only stunt is not important acting is also req...      0\n",
       "33  This movie is a very horrible and a worst movi...      0\n",
       "34  Salman Khan acted very bad in that movie and t...      0\n",
       "35     Game Changer, Mass Cinematic Brilliance 4 Star      1\n",
       "36  It was a mind-blowing experience to watch such...      1\n",
       "37  t has some punchlines like\" If you think you a...      1\n",
       "38  I don't know why salman think that he can do e...      0\n",
       "39  This movie is a masterpiece with a unique stor...      1\n",
       "40  This is the worst movie I've ever seen in my w...      0\n",
       "41  ONE OF THE MOST AMAZING POWERFUL MOVIES I HAVE...      1\n",
       "42  They should have left it at the Second install...      0\n",
       "43  Excellent Story, screen play, direction, cinem...      1\n",
       "44  Very very flop movie. There is nothing like ra...      0\n",
       "45  The best Indian action film, the way story is ...      1\n",
       "46  this movie is one of my favorites, yash gave h...      1\n",
       "47  The plot twist were so unnecessary , and this ...      0\n",
       "48  It is the best movie I have ever seen in India...      1\n",
       "49  This movie is a very horrible and a worst movi...      0"
      ]
     },
     "execution_count": 3,
     "metadata": {},
     "output_type": "execute_result"
    }
   ],
   "source": [
    "dataset = pd.read_csv('review123.csv')\n",
    "dataset"
   ]
  },
  {
   "cell_type": "code",
   "execution_count": 5,
   "metadata": {
    "colab": {
     "base_uri": "https://localhost:8080/",
     "height": 52
    },
    "colab_type": "code",
    "id": "8u_yXh9dCmEE",
    "outputId": "bdcb9868-74c8-40b2-e5e9-877b949ce385"
   },
   "outputs": [
    {
     "name": "stderr",
     "output_type": "stream",
     "text": [
      "[nltk_data] Downloading package stopwords to\n",
      "[nltk_data]     /Users/shridharmankar/nltk_data...\n",
      "[nltk_data]   Package stopwords is already up-to-date!\n"
     ]
    }
   ],
   "source": [
    "import re\n",
    "import nltk\n",
    "nltk.download('stopwords')\n",
    "from nltk.corpus import stopwords\n",
    "from nltk.stem.porter import PorterStemmer\n",
    "corpus = []\n",
    "for i in range(0, 50):\n",
    "  review = re.sub('[^a-zA-Z]', ' ', dataset['review'][i])\n",
    "  review = review.lower()\n",
    "  review = review.split()\n",
    "  ps = PorterStemmer()\n",
    "  all_stopwords = stopwords.words('english')\n",
    "  all_stopwords.remove('not')\n",
    "  review = [ps.stem(word) for word in review if not word in set(all_stopwords)]\n",
    "  review = ' '.join(review)\n",
    "  corpus.append(review)"
   ]
  },
  {
   "cell_type": "code",
   "execution_count": 6,
   "metadata": {
    "colab": {
     "base_uri": "https://localhost:8080/",
     "height": 55
    },
    "colab_type": "code",
    "id": "KpGWdrzGoAsL",
    "outputId": "a1d5020d-8005-4735-d4b9-ad99fb366534"
   },
   "outputs": [
    {
     "name": "stdout",
     "output_type": "stream",
     "text": [
      "['rocki bhai rock awesom perform', 'good movi blockbust cinema', 'love movi act', 'great perform yash sanju baba', 'total wast money', 'poor storylin bad perform lead', 'give one cuz edit style kinda much fast except everyth felt right heart', 'first half slow bore', 'song best part movi like', 'like', 'give big zero wast', 'total overact lead', 'doubt film chang phase sandalwood industri everi peopl put seeminglessli hard work effort', 'best indian movi noth compar', 'race known suspens thriller miss film', 'fresh stori great visual best part mani charact film realli increas curios audienc prove hero not power charact movi els movi would becom predict like bollywood masala movi', 'worst movi race franchis salman khan show give star', 'illog action sequenc usual', 'remark direct outstand act monument narrat unthink screenplay strike action sequenc', 'meaningless appropri bore', 'race undoubtedli one worst big budget commerci movi seen', 'rd class act top class actor extrem disappoint', 'worst movi ever seen whole life bore illog', 'epic mileston kannada industri proud say belong place technician film belong e karnataka', 'fabul work done prashant neel get bore watch movi screenplay bgm cinematographi amaz big thank ravi basruru bhuvan gowda rest crew', 'kgf win whole kannada film industri', 'even charact perform elev film salman khan walk talk act like robot', 'one not go watch race franchis brilliant stori line act movi ridicul aao twist karen song writer took heart guess', 'twist minut frankli twist gave neck pain', 'cinematographi mindblow depict kolar gold field stun tough time find excus not watch big screen', 'fantast experi unlik formula style routin love stori unnecessari heroin dont hold valu support stori idl sake hero routin aspect even feel unworthi mention', 'superb flop movi ever seen life loser leader salman khan', 'stunt not import act also requir peopl not foolish everi movi watch saif ali khan time batter salman', 'movi horribl worst movi dont like race like previou race better like race race type movi silli', 'salman khan act bad movi song danc bad even thriller action bad movi not review stori', 'game changer mass cinemat brillianc star', 'mind blow experi watch masterpiec languag usual south movi dub poorli loos basic charm kgf turn best movi dub actual dialogu rewritten beauti make engag experi', 'punchlin like think bad dad kgf fan like love mother bgm awesom whenev mother bgm play give goosebump movi revolv around mainli rocki kgf kolar gold field', 'know salman think everyth lyricist act sing produc need focu act rather thing import thing break imag dabang bcoz last mani year zonor movi peopl get irrit bcoz koi kitna sahega bhaigiri', 'movi masterpiec uniqu stori world transport audienc drawback movi choppi edit scene cut fast within second otherwis act emot storylin direct screenplay bgm absolut stun movi', 'worst movi ever seen whole life bore illog tri attempt suicid theater illog hype movi', 'one amaz power movi ever watch', 'left second instal instal disast get go plot hole weak narr ice cake deplor act rather drone especi daisi saquib bobbi not sure cast daisi shah obnoxi nasal music subpar', 'excel stori screen play direct cinematographi dialogu lyric music background score perform', 'flop movi noth like race saif ali khan best everi race request rohit shetti pleas direct race', 'best indian action film way stori built screen play dialogu absolut brilliant', 'movi one favorit yash gave best perform movi love look style movi alotttt', 'plot twist unnecessari movi still super bore', 'best movi ever seen india entir life storylin great charact build clear nice', 'movi horribl worst movi dont like race like previou race better like race race']\n"
     ]
    }
   ],
   "source": [
    "print(corpus)"
   ]
  },
  {
   "cell_type": "code",
   "execution_count": 7,
   "metadata": {
    "colab": {},
    "colab_type": "code",
    "id": "qroF7XcSCvY3"
   },
   "outputs": [
    {
     "data": {
      "text/plain": [
       "(300,)"
      ]
     },
     "execution_count": 7,
     "metadata": {},
     "output_type": "execute_result"
    }
   ],
   "source": [
    "from sklearn.feature_extraction.text import CountVectorizer\n",
    "cv = CountVectorizer(max_features = 300)\n",
    "X = cv.fit_transform(corpus).toarray()\n",
    "y = dataset['label']\n",
    "X[0].shape"
   ]
  },
  {
   "cell_type": "code",
   "execution_count": 55,
   "metadata": {
    "colab": {},
    "colab_type": "code",
    "id": "qQXYM5VzDDDI"
   },
   "outputs": [
    {
     "data": {
      "text/plain": [
       "array([[0, 0, 0, ..., 0, 0, 0],\n",
       "       [0, 0, 0, ..., 0, 0, 0],\n",
       "       [0, 1, 0, ..., 0, 0, 0],\n",
       "       ...,\n",
       "       [0, 0, 0, ..., 0, 0, 0],\n",
       "       [0, 0, 0, ..., 0, 0, 0],\n",
       "       [0, 0, 0, ..., 0, 0, 0]])"
      ]
     },
     "execution_count": 55,
     "metadata": {},
     "output_type": "execute_result"
    }
   ],
   "source": [
    "from sklearn.model_selection import train_test_split\n",
    "X_train, X_test, y_train, y_test = train_test_split(X, y, test_size = 0.30, random_state = 0)\n",
    "X_train"
   ]
  },
  {
   "cell_type": "code",
   "execution_count": 56,
   "metadata": {},
   "outputs": [
    {
     "data": {
      "text/plain": [
       "array([[0, 0, 0, ..., 0, 0, 0],\n",
       "       [0, 0, 0, ..., 0, 0, 0],\n",
       "       [0, 0, 0, ..., 0, 0, 1],\n",
       "       ...,\n",
       "       [0, 0, 1, ..., 0, 0, 0],\n",
       "       [0, 0, 1, ..., 0, 0, 0],\n",
       "       [0, 0, 1, ..., 0, 0, 0]])"
      ]
     },
     "execution_count": 56,
     "metadata": {},
     "output_type": "execute_result"
    }
   ],
   "source": [
    "X_test"
   ]
  },
  {
   "cell_type": "code",
   "execution_count": 57,
   "metadata": {},
   "outputs": [
    {
     "data": {
      "text/plain": [
       "7     0\n",
       "14    0\n",
       "45    1\n",
       "48    1\n",
       "29    1\n",
       "15    1\n",
       "30    1\n",
       "32    0\n",
       "16    0\n",
       "42    0\n",
       "20    0\n",
       "43    1\n",
       "8     1\n",
       "13    1\n",
       "25    1\n",
       "5     0\n",
       "17    0\n",
       "40    0\n",
       "49    0\n",
       "1     1\n",
       "12    1\n",
       "37    1\n",
       "24    1\n",
       "6     1\n",
       "23    1\n",
       "36    1\n",
       "21    0\n",
       "19    0\n",
       "9     0\n",
       "39    1\n",
       "46    1\n",
       "3     1\n",
       "0     1\n",
       "47    0\n",
       "44    0\n",
       "Name: label, dtype: int64"
      ]
     },
     "execution_count": 57,
     "metadata": {},
     "output_type": "execute_result"
    }
   ],
   "source": [
    "y_train"
   ]
  },
  {
   "cell_type": "code",
   "execution_count": 58,
   "metadata": {},
   "outputs": [
    {
     "data": {
      "text/plain": [
       "28    0\n",
       "11    0\n",
       "10    0\n",
       "41    1\n",
       "2     1\n",
       "27    0\n",
       "38    0\n",
       "31    0\n",
       "22    0\n",
       "4     0\n",
       "33    0\n",
       "35    1\n",
       "26    0\n",
       "34    0\n",
       "18    1\n",
       "Name: label, dtype: int64"
      ]
     },
     "execution_count": 58,
     "metadata": {},
     "output_type": "execute_result"
    }
   ],
   "source": [
    "y_test"
   ]
  },
  {
   "cell_type": "code",
   "execution_count": 59,
   "metadata": {
    "colab": {
     "base_uri": "https://localhost:8080/",
     "height": 34
    },
    "colab_type": "code",
    "id": "DS9oiDXXDRdI",
    "outputId": "77513c39-0ec6-4544-c056-26abe055b746"
   },
   "outputs": [
    {
     "data": {
      "text/plain": [
       "LogisticRegression()"
      ]
     },
     "execution_count": 59,
     "metadata": {},
     "output_type": "execute_result"
    }
   ],
   "source": [
    "from sklearn.linear_model import LogisticRegression\n",
    "classifier = LogisticRegression()\n",
    "classifier.fit(X_train, y_train)"
   ]
  },
  {
   "cell_type": "code",
   "execution_count": 60,
   "metadata": {
    "colab": {
     "base_uri": "https://localhost:8080/",
     "height": 1000
    },
    "colab_type": "code",
    "id": "Iif0CVhFDaMp",
    "outputId": "1266c3f2-d500-440e-d756-e0eabad504a7"
   },
   "outputs": [
    {
     "name": "stdout",
     "output_type": "stream",
     "text": [
      "[0 0 0 1 1 0 0 0 0 0 0 0 0 0 0]\n"
     ]
    }
   ],
   "source": [
    "y_pred = classifier.predict(X_test)\n",
    "print(y_pred)"
   ]
  },
  {
   "cell_type": "code",
   "execution_count": 61,
   "metadata": {
    "colab": {
     "base_uri": "https://localhost:8080/",
     "height": 68
    },
    "colab_type": "code",
    "id": "Xj9IU6MxDnvo",
    "outputId": "43efba29-9811-4913-a085-8355ec1c02cb"
   },
   "outputs": [
    {
     "name": "stdout",
     "output_type": "stream",
     "text": [
      "[[11  0]\n",
      " [ 2  2]]\n"
     ]
    },
    {
     "data": {
      "text/plain": [
       "0.8666666666666667"
      ]
     },
     "execution_count": 61,
     "metadata": {},
     "output_type": "execute_result"
    }
   ],
   "source": [
    "from sklearn.metrics import confusion_matrix, accuracy_score\n",
    "matrix = confusion_matrix(y_test, y_pred)\n",
    "print(matrix)\n",
    "accuracy_score(y_test, y_pred)"
   ]
  },
  {
   "cell_type": "code",
   "execution_count": null,
   "metadata": {},
   "outputs": [],
   "source": []
  }
 ],
 "metadata": {
  "colab": {
   "collapsed_sections": [],
   "name": "natural_language_processing.ipynb",
   "provenance": [],
   "toc_visible": true
  },
  "kernelspec": {
   "display_name": "Python 3 (ipykernel)",
   "language": "python",
   "name": "python3"
  },
  "language_info": {
   "codemirror_mode": {
    "name": "ipython",
    "version": 3
   },
   "file_extension": ".py",
   "mimetype": "text/x-python",
   "name": "python",
   "nbconvert_exporter": "python",
   "pygments_lexer": "ipython3",
   "version": "3.9.13"
  }
 },
 "nbformat": 4,
 "nbformat_minor": 1
}
