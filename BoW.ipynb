{
 "cells": [
  {
   "cell_type": "code",
   "execution_count": 12,
   "id": "67d360ac",
   "metadata": {},
   "outputs": [],
   "source": [
    "from sklearn.feature_extraction.text import CountVectorizer\n",
    "import pandas as pd"
   ]
  },
  {
   "cell_type": "code",
   "execution_count": 13,
   "id": "bf417ba3",
   "metadata": {},
   "outputs": [],
   "source": [
    "A1 = 'hello and welcome shri'\n",
    "A2 = 'shri love NLP'\n",
    "A3 = 'shri is good boy'"
   ]
  },
  {
   "cell_type": "code",
   "execution_count": 16,
   "id": "65b8f424",
   "metadata": {},
   "outputs": [
    {
     "name": "stdout",
     "output_type": "stream",
     "text": [
      "   boy  good  hello  love  nlp  shri  welcome\n",
      "0    0     0      1     0    0     1        1\n",
      "1    0     0      0     1    1     1        0\n",
      "2    1     1      0     0    0     1        0\n"
     ]
    },
    {
     "name": "stderr",
     "output_type": "stream",
     "text": [
      "/Users/shridharmankar/opt/anaconda3/lib/python3.9/site-packages/sklearn/utils/deprecation.py:87: FutureWarning: Function get_feature_names is deprecated; get_feature_names is deprecated in 1.0 and will be removed in 1.2. Please use get_feature_names_out instead.\n",
      "  warnings.warn(msg, category=FutureWarning)\n"
     ]
    }
   ],
   "source": [
    "vectorizer = CountVectorizer(stop_words='english')\n",
    "vectors = vectorizer.fit_transform([A1,A2,A3]).todense()\n",
    "feature_names = vectorizer.get_feature_names()\n",
    "#dense = vectors.todense()\n",
    "\n",
    "result = pd.DataFrame(vectors, columns=feature_names)\n",
    "\n",
    "print(result)"
   ]
  },
  {
   "cell_type": "code",
   "execution_count": null,
   "id": "53fd7911",
   "metadata": {},
   "outputs": [],
   "source": []
  },
  {
   "cell_type": "code",
   "execution_count": null,
   "id": "66a10ff2",
   "metadata": {},
   "outputs": [],
   "source": []
  }
 ],
 "metadata": {
  "kernelspec": {
   "display_name": "Python 3 (ipykernel)",
   "language": "python",
   "name": "python3"
  },
  "language_info": {
   "codemirror_mode": {
    "name": "ipython",
    "version": 3
   },
   "file_extension": ".py",
   "mimetype": "text/x-python",
   "name": "python",
   "nbconvert_exporter": "python",
   "pygments_lexer": "ipython3",
   "version": "3.9.13"
  }
 },
 "nbformat": 4,
 "nbformat_minor": 5
}
